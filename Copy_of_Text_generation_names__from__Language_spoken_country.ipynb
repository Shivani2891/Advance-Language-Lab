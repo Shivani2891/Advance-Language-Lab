{
  "nbformat": 4,
  "nbformat_minor": 0,
  "metadata": {
    "colab": {
      "name": "Copy of Text generation_names _from _Language spoken/country.ipynb",
      "provenance": [],
      "collapsed_sections": []
    },
    "kernelspec": {
      "name": "python3",
      "display_name": "Python 3"
    },
    "language_info": {
      "name": "python"
    }
  },
  "cells": [
    {
      "cell_type": "code",
      "source": [
        "from google.colab import drive\n",
        "drive.mount('/gdrive')\n",
        "%cd /gdrive"
      ],
      "metadata": {
        "colab": {
          "base_uri": "https://localhost:8080/"
        },
        "id": "gEoOJkpaDxxB",
        "outputId": "76162ded-7981-4723-84e0-eef997ba0f99"
      },
      "execution_count": null,
      "outputs": [
        {
          "output_type": "stream",
          "name": "stdout",
          "text": [
            "Drive already mounted at /gdrive; to attempt to forcibly remount, call drive.mount(\"/gdrive\", force_remount=True).\n",
            "/gdrive\n"
          ]
        }
      ]
    },
    {
      "cell_type": "code",
      "source": [
        "import torch\n",
        "from torch import nn\n",
        "import torch.nn as nn\n",
        "from torch.utils.data import Dataset, DataLoader\n",
        "from torch.optim import lr_scheduler, Adam\n",
        "\n",
        "import pandas as pd\n",
        "import string"
      ],
      "metadata": {
        "id": "BJVoI3WKBAUo"
      },
      "execution_count": null,
      "outputs": []
    },
    {
      "cell_type": "markdown",
      "source": [
        "## Importing libararies, and loading the data.\n",
        "The datset used is 18 different text files containing the names of people speaking different languages/or of different nationalities.There is one name per line.We split lines into an array, convert Unicode to ASCII, and end up with a dictionary of names as value with nationalities as key."
      ],
      "metadata": {
        "id": "tWlH7GvToe2O"
      }
    },
    {
      "cell_type": "code",
      "source": [
        "from __future__ import unicode_literals, print_function, division\n",
        "from io import open\n",
        "import glob\n",
        "import os\n",
        "import unicodedata\n",
        "import string\n",
        "\n",
        "all_letters = string.ascii_letters + \" .,;'-\"\n",
        "n_letters = len(all_letters) + 1 # Plus EOS marker\n",
        "\n",
        "def findFiles(path): return glob.glob(path)\n",
        "\n",
        "# Turn a Unicode string to plain ASCII, thanks to https://stackoverflow.com/a/518232/2809427\n",
        "def unicodeToAscii(s):\n",
        "    return ''.join(\n",
        "        c for c in unicodedata.normalize('NFD', s)\n",
        "        if unicodedata.category(c) != 'Mn'\n",
        "        and c in all_letters\n",
        "    )\n",
        "\n",
        "# Read a file and split into lines\n",
        "def readLines(filename):\n",
        "    with open(filename, encoding='utf-8') as some_file:\n",
        "        return [unicodeToAscii(line.strip()) for line in some_file]\n",
        "\n",
        "# Build the category_lines dictionary, a list of lines per category\n",
        "category_lines = {}\n",
        "all_categories = []\n",
        "for filename in findFiles('/content/drive/MyDrive/nlplab_data_advance/names/*.txt'):\n",
        "    category = os.path.splitext(os.path.basename(filename))[0]\n",
        "    all_categories.append(category)\n",
        "    lines = readLines(filename)\n",
        "    category_lines[category] = lines\n",
        "\n",
        "n_categories = len(all_categories)\n",
        "\n",
        "\n",
        "\n",
        "print('# categories:', n_categories, all_categories)\n",
        "print(unicodeToAscii(\"O'Néàl\"))"
      ],
      "metadata": {
        "colab": {
          "base_uri": "https://localhost:8080/"
        },
        "id": "slkLOLmTBAhR",
        "outputId": "9c44aa50-2036-4b40-ad8a-7065f1b3b602"
      },
      "execution_count": null,
      "outputs": [
        {
          "output_type": "stream",
          "name": "stdout",
          "text": [
            "# categories: 18 ['Vietnamese', 'French', 'Dutch', 'Spanish', 'Italian', 'Scottish', 'Russian', 'Greek', 'Chinese', 'Portuguese', 'English', 'German', 'Korean', 'Irish', 'Japanese', 'Polish', 'Czech', 'Arabic']\n",
            "O'Neal\n"
          ]
        }
      ]
    },
    {
      "cell_type": "markdown",
      "source": [
        "## Defining the RNN model"
      ],
      "metadata": {
        "id": "ahIJ-rWoqy6L"
      }
    },
    {
      "cell_type": "code",
      "source": [
        "class RNN(nn.Module):\n",
        "    def __init__(self, input_size, hidden_size, output_size):\n",
        "        super(RNN, self).__init__()\n",
        "        self.hidden_size = hidden_size\n",
        "\n",
        "        self.i2h = nn.Linear(n_categories + input_size + hidden_size, hidden_size)\n",
        "        self.i2o = nn.Linear(n_categories + input_size + hidden_size, output_size)\n",
        "        self.o2o = nn.Linear(hidden_size + output_size, output_size)\n",
        "        self.dropout = nn.Dropout(0.1)\n",
        "        self.softmax = nn.LogSoftmax(dim=1)\n",
        "\n",
        "    def forward(self, category, input, hidden):\n",
        "        input_combined = torch.cat((category, input, hidden), 1)\n",
        "        hidden = self.i2h(input_combined)\n",
        "        output = self.i2o(input_combined)\n",
        "        output_combined = torch.cat((hidden, output), 1)\n",
        "        output = self.o2o(output_combined)\n",
        "        output = self.dropout(output)\n",
        "        output = self.softmax(output)\n",
        "        return output, hidden\n",
        "\n",
        "    def initHidden(self):\n",
        "        return torch.zeros(1, self.hidden_size)"
      ],
      "metadata": {
        "id": "MqbVXzVYBAk4"
      },
      "execution_count": null,
      "outputs": []
    },
    {
      "cell_type": "code",
      "source": [
        "import random\n",
        "\n",
        "# Random item from a list\n",
        "def randomChoice(l):\n",
        "    return l[random.randint(0, len(l) - 1)]\n",
        "\n",
        "# Get a random category and random line from that category\n",
        "def randomTrainingPair():\n",
        "    category = randomChoice(all_categories)\n",
        "    line = randomChoice(category_lines[category])\n",
        "    return category, line"
      ],
      "metadata": {
        "id": "0TGcxkEnGS-5"
      },
      "execution_count": null,
      "outputs": []
    },
    {
      "cell_type": "code",
      "source": [
        "# One-hot vector for category\n",
        "def categoryTensor(category):\n",
        "    li = all_categories.index(category)\n",
        "    tensor = torch.zeros(1, n_categories)\n",
        "    tensor[0][li] = 1\n",
        "    return tensor\n",
        "\n",
        "# One-hot matrix of first to last letters (not including EOS) for input\n",
        "def inputTensor(line):\n",
        "    tensor = torch.zeros(len(line), 1, n_letters)\n",
        "    for li in range(len(line)):\n",
        "        letter = line[li]\n",
        "        tensor[li][0][all_letters.find(letter)] = 1\n",
        "    return tensor\n",
        "\n",
        "# LongTensor of second letter to end (EOS) for target\n",
        "def targetTensor(line):\n",
        "    letter_indexes = [all_letters.find(line[li]) for li in range(1, len(line))]\n",
        "    letter_indexes.append(n_letters - 1) # EOS\n",
        "    return torch.LongTensor(letter_indexes)"
      ],
      "metadata": {
        "id": "zf-04Ex9GTK2"
      },
      "execution_count": null,
      "outputs": []
    },
    {
      "cell_type": "code",
      "source": [
        "# Make category, input, and target tensors from a random category, line pair\n",
        "def randomTrainingExample():\n",
        "    category, line = randomTrainingPair()\n",
        "    category_tensor = categoryTensor(category)\n",
        "    input_line_tensor = inputTensor(line)\n",
        "    target_line_tensor = targetTensor(line)\n",
        "    return category_tensor, input_line_tensor, target_line_tensor"
      ],
      "metadata": {
        "id": "jGoBs6V-GTOg"
      },
      "execution_count": null,
      "outputs": []
    },
    {
      "cell_type": "markdown",
      "source": [
        "## Model is set to be trained.\n",
        "In contrast to classification, where only the last output is used, we are making a prediction at every step, so we are calculating loss at every step."
      ],
      "metadata": {
        "id": "2DUkzh6Vq7l6"
      }
    },
    {
      "cell_type": "code",
      "source": [
        "criterion = nn.NLLLoss() # the negative log likelihood function\n",
        "\n",
        "learning_rate = 0.0005\n",
        "\n",
        "def train(category_tensor, input_line_tensor, target_line_tensor):# training function\n",
        "    target_line_tensor.unsqueeze_(-1)\n",
        "    hidden = rnn.initHidden()\n",
        "\n",
        "    rnn.zero_grad()\n",
        "\n",
        "    loss = 0\n",
        "\n",
        "    for i in range(input_line_tensor.size(0)):\n",
        "        output, hidden = rnn(category_tensor, input_line_tensor[i], hidden)\n",
        "        l = criterion(output, target_line_tensor[i])\n",
        "        loss += l\n",
        "\n",
        "    loss.backward()\n",
        "\n",
        "    for p in rnn.parameters():\n",
        "        p.data.add_(p.grad.data, alpha=-learning_rate)\n",
        "\n",
        "    return output, loss.item() / input_line_tensor.size(0)"
      ],
      "metadata": {
        "id": "msPhDc5sGl8s"
      },
      "execution_count": null,
      "outputs": []
    },
    {
      "cell_type": "markdown",
      "source": [
        "Time stamp is added to check how long training takes."
      ],
      "metadata": {
        "id": "Tdm_RBr2wzYL"
      }
    },
    {
      "cell_type": "code",
      "source": [
        "import time\n",
        "import math\n",
        "\n",
        "def timeSince(since):\n",
        "    now = time.time()\n",
        "    s = now - since\n",
        "    m = math.floor(s / 60)\n",
        "    s -= m * 60\n",
        "    return '%dm %ds' % (m, s)"
      ],
      "metadata": {
        "id": "ubqO2-EIG6Yx"
      },
      "execution_count": null,
      "outputs": []
    },
    {
      "cell_type": "code",
      "source": [
        "rnn = RNN(n_letters, 128, n_letters)\n",
        "\n",
        "n_iters = 100000\n",
        "print_every = 5000\n",
        "plot_every = 500\n",
        "all_losses = []\n",
        "total_loss = 0 # Reset every plot_every iters\n",
        "\n",
        "start = time.time()\n",
        "\n",
        "for iter in range(1, n_iters + 1):\n",
        "    output, loss = train(*randomTrainingExample())\n",
        "    total_loss += loss\n",
        "\n",
        "    if iter % print_every == 0:\n",
        "        print('%s (%d %d%%) %.4f' % (timeSince(start), iter, iter / n_iters * 100, loss))\n",
        "\n",
        "    if iter % plot_every == 0:\n",
        "        all_losses.append(total_loss / plot_every)\n",
        "        total_loss = 0"
      ],
      "metadata": {
        "colab": {
          "base_uri": "https://localhost:8080/"
        },
        "id": "L6CYDmupG6lT",
        "outputId": "562d9857-570f-4d0f-ffb7-8ec756c809ad"
      },
      "execution_count": null,
      "outputs": [
        {
          "output_type": "stream",
          "name": "stdout",
          "text": [
            "0m 11s (5000 5%) 3.3969\n",
            "0m 23s (10000 10%) 2.9257\n",
            "0m 35s (15000 15%) 2.5600\n",
            "0m 47s (20000 20%) 3.0285\n",
            "0m 58s (25000 25%) 2.4011\n",
            "1m 10s (30000 30%) 2.5537\n",
            "1m 21s (35000 35%) 2.9967\n",
            "1m 33s (40000 40%) 1.3995\n",
            "1m 45s (45000 45%) 2.5371\n",
            "1m 57s (50000 50%) 2.5295\n",
            "2m 8s (55000 55%) 2.3286\n",
            "2m 20s (60000 60%) 2.3732\n",
            "2m 32s (65000 65%) 2.7058\n",
            "2m 44s (70000 70%) 3.1295\n",
            "2m 55s (75000 75%) 1.9691\n",
            "3m 7s (80000 80%) 3.0449\n",
            "3m 19s (85000 85%) 2.5346\n",
            "3m 30s (90000 90%) 2.5680\n",
            "3m 42s (95000 95%) 2.5253\n",
            "3m 54s (100000 100%) 2.9440\n"
          ]
        }
      ]
    },
    {
      "cell_type": "code",
      "source": [
        "import matplotlib.pyplot as plt\n",
        "\n",
        "plt.figure()\n",
        "plt.plot(all_losses)"
      ],
      "metadata": {
        "colab": {
          "base_uri": "https://localhost:8080/",
          "height": 283
        },
        "id": "fC6OAEtnG6os",
        "outputId": "df99882b-5909-451b-e487-dc714663e3ca"
      },
      "execution_count": null,
      "outputs": [
        {
          "output_type": "execute_result",
          "data": {
            "text/plain": [
              "[<matplotlib.lines.Line2D at 0x7f5fddbc2910>]"
            ]
          },
          "metadata": {},
          "execution_count": 18
        },
        {
          "output_type": "display_data",
          "data": {
            "image/png": "[encoded data removed]",
            "text/plain": [
              "<Figure size 432x288 with 1 Axes>"
            ]
          },
          "metadata": {
            "needs_background": "light"
          }
        }
      ]
    },
    {
      "cell_type": "markdown",
      "source": [
        "## Text generation steps\n",
        "Th eprocess of name generation is ,the network is given a letter and ask what the next one is, feed that in as the next letter, and repeat until the EOS token.\n",
        "Steps:\n",
        "*Create tensors for input category, starting letter, and empty hidden state\n",
        "*Create a string output_name with the starting letter\n",
        "*Up to a maximum output length,\n",
        "*Feed the current letter to the network\n",
        "*Get the next letter from highest output, and next hidden state\n",
        "*If the letter is EOS, stop here\n",
        "*If a regular letter, add to output_name and continue\n",
        "*Return the final name"
      ],
      "metadata": {
        "id": "wuhDAsIlxd4b"
      }
    },
    {
      "cell_type": "code",
      "source": [
        "max_length = 20\n",
        "\n",
        "# Sample from a category and starting letter\n",
        "def sample(category, start_letter='A'):\n",
        "    with torch.no_grad():  # no need to track history in sampling\n",
        "        category_tensor = categoryTensor(category)\n",
        "        input = inputTensor(start_letter)\n",
        "        hidden = rnn.initHidden()\n",
        "\n",
        "        output_name = start_letter\n",
        "\n",
        "        for i in range(max_length):\n",
        "            output, hidden = rnn(category_tensor, input[0], hidden)\n",
        "            topv, topi = output.topk(1)\n",
        "            topi = topi[0][0]\n",
        "            if topi == n_letters - 1:\n",
        "                break\n",
        "            else:\n",
        "                letter = all_letters[topi]\n",
        "                output_name += letter\n",
        "            input = inputTensor(letter)\n",
        "\n",
        "        return output_name\n",
        "\n",
        "# Get multiple samples from one category and multiple starting letters\n",
        "def samples(category, start_letters='ABC'):\n",
        "    for start_letter in start_letters:\n",
        "        print(sample(category, start_letter))\n",
        "\n",
        "print(\"Italian:-\")\n",
        "samples('Italian', 'BPRT')\n",
        "print(\"\\nKorean:-\")\n",
        "samples('Korean', 'CMRS')\n",
        "print(\"\\nRussian:-\")\n",
        "samples('Russian', 'AJLN')\n",
        "print(\"\\nVietnamese:-\")\n",
        "samples('Vietnamese', 'LMT')"
      ],
      "metadata": {
        "colab": {
          "base_uri": "https://localhost:8080/"
        },
        "id": "YgdUer6xGmD9",
        "outputId": "bb220727-34ea-4dd9-c59a-aa4286736af9"
      },
      "execution_count": null,
      "outputs": [
        {
          "output_type": "stream",
          "name": "stdout",
          "text": [
            "Italian:-\n",
            "Baricha\n",
            "Parichi\n",
            "Rontili\n",
            "Tontini\n",
            "\n",
            "Korean:-\n",
            "Chon\n",
            "Man\n",
            "Ron\n",
            "Sho\n",
            "\n",
            "Russian:-\n",
            "Allinkov\n",
            "Jakin\n",
            "Lakin\n",
            "Nakin\n",
            "\n",
            "Vietnamese:-\n",
            "Lan\n",
            "Man\n",
            "Than\n"
          ]
        }
      ]
    },
    {
      "cell_type": "markdown",
      "source": [
        "## LSTM model for text generation"
      ],
      "metadata": {
        "id": "aZpYcDYSyYp8"
      }
    },
    {
      "cell_type": "code",
      "source": [
        "device = torch.device('cuda' if torch.cuda.is_available() else 'cpu')\n",
        "\n",
        "# get characters from string printable\n",
        "all_characters = string.printable\n",
        "n_charcters=len(all_characters)\n",
        "class LSTM(nn.Module):\n",
        "    def __init__(self, input_size, output_size, hidden_dim, n_layers, drop_prob=0.5):\n",
        "        super(LSTM, self).__init__()\n",
        "        self.n_layers = n_layers\n",
        "        self.hidden_dim = hidden_dim\n",
        "        \n",
        "        self.embedding = nn.Embedding(input_size, hidden_dim)\n",
        "        self.lstm = nn.LSTM(hidden_dim, hidden_dim, n_layers, dropout=drop_prob, batch_first=True)\n",
        "        self.dropout = nn.Dropout(drop_prob)\n",
        "        self.fc = nn.Linear(hidden_dim, output_size)\n",
        "        self.sigmoid = nn.Sigmoid()\n",
        "        \n",
        "    def forward(self, x, hidden,cell):\n",
        "        \n",
        "        out = self.embedding(x)\n",
        "        out, (hidden,cell) = self.lstm(out.unsqueeze(1), (hidden,cell))\n",
        "        out = self.fc(out.reshape(out.shape[0],-1))\n",
        "        return out,(hidden,cell)\n",
        "        \n",
        "        out = self.dropout(lstm_out)\n",
        "        out = self.fc(out)\n",
        "        out = self.sigmoid(out)\n",
        "        \n",
        "        out = out.view(batch_size, -1)\n",
        "        out = out[:,-1]\n",
        "        return out, hidden\n",
        "    \n",
        "    def init_hidden(self, batch_size):\n",
        "        hidden=torch.zeros(self.num_layers,batch_size,self.hidden_size).to(device)\n",
        "        cell =torch.zeros(self.num_layers,batch_size,self.hidden_size).to(device)\n",
        "        return hidden,cell\n",
        "def train(category_tensor, input_line_tensor, target_line_tensor):\n",
        "    target_line_tensor.unsqueeze_(-1)\n",
        "    hidden = rnn.initHidden()\n",
        "\n",
        "    rnn.zero_grad()\n",
        "\n",
        "    loss = 0\n",
        "\n",
        "    for i in range(input_line_tensor.size(0)):\n",
        "        output, hidden = rnn(category_tensor, input_line_tensor[i], hidden)\n",
        "        l = criterion(output, target_line_tensor[i])\n",
        "        loss += l\n",
        "\n",
        "    loss.backward()\n",
        "\n",
        "    for p in rnn.parameters():\n",
        "        p.data.add_(p.grad.data, alpha=-learning_rate)\n",
        "\n",
        "    return output, loss.item() / input_line_tensor.size(0)\n",
        "  \n",
        "\n",
        "          \n",
        "    \n",
        " \n"
      ],
      "metadata": {
        "id": "C8ZyrL4LGmJI"
      },
      "execution_count": null,
      "outputs": []
    },
    {
      "cell_type": "markdown",
      "source": [
        "## Training LSTM "
      ],
      "metadata": {
        "id": "j9eiUEddyjb7"
      }
    },
    {
      "cell_type": "code",
      "source": [
        "lstm = LSTM(n_letters,n_letters,256,2,0.5) # hidden nodes are 256\n",
        "\n",
        "n_iters = 100000\n",
        "print_every = 5000\n",
        "plot_every = 500\n",
        "all_losses = []\n",
        "total_loss = 0 # Reset every plot_every iters\n",
        "\n",
        "start = time.time()\n",
        "\n",
        "for iter in range(1, n_iters + 1):\n",
        "    output, loss = train(*randomTrainingExample())\n",
        "    total_loss += loss\n",
        "\n",
        "    if iter % print_every == 0:\n",
        "        print('%s (%d %d%%) %.4f' % (timeSince(start), iter, iter / n_iters * 100, loss))\n",
        "\n",
        "    if iter % plot_every == 0:\n",
        "        all_losses.append(total_loss / plot_every)\n",
        "        total_loss = 0"
      ],
      "metadata": {
        "colab": {
          "base_uri": "https://localhost:8080/"
        },
        "id": "1Xrd1feRr1Tt",
        "outputId": "f24615c4-a8e9-40ea-ed52-5dd1c14ca350"
      },
      "execution_count": null,
      "outputs": [
        {
          "output_type": "stream",
          "name": "stdout",
          "text": [
            "0m 13s (5000 5%) 2.0955\n",
            "0m 27s (10000 10%) 2.3802\n",
            "0m 41s (15000 15%) 2.5795\n",
            "0m 55s (20000 20%) 2.8123\n",
            "1m 9s (25000 25%) 2.3245\n",
            "1m 23s (30000 30%) 3.1433\n",
            "1m 36s (35000 35%) 2.9129\n",
            "1m 50s (40000 40%) 1.0922\n",
            "2m 3s (45000 45%) 2.0565\n",
            "2m 17s (50000 50%) 1.6653\n",
            "2m 30s (55000 55%) 2.2414\n",
            "2m 44s (60000 60%) 2.3289\n",
            "2m 57s (65000 65%) 2.2689\n",
            "3m 11s (70000 70%) 2.4775\n",
            "3m 24s (75000 75%) 1.5311\n",
            "3m 37s (80000 80%) 1.6242\n",
            "3m 51s (85000 85%) 3.2298\n",
            "4m 4s (90000 90%) 1.9068\n",
            "4m 18s (95000 95%) 2.1670\n",
            "4m 32s (100000 100%) 2.3243\n"
          ]
        }
      ]
    },
    {
      "cell_type": "code",
      "source": [
        "plt.figure()\n",
        "plt.plot(all_losses)"
      ],
      "metadata": {
        "colab": {
          "base_uri": "https://localhost:8080/",
          "height": 283
        },
        "id": "6oYFo8x1usVK",
        "outputId": "887f8fe7-f5a7-4792-ddcc-467c144d7294"
      },
      "execution_count": null,
      "outputs": [
        {
          "output_type": "execute_result",
          "data": {
            "text/plain": [
              "[<matplotlib.lines.Line2D at 0x7f5fd93dda50>]"
            ]
          },
          "metadata": {},
          "execution_count": 38
        },
        {
          "output_type": "display_data",
          "data": {
            "image/png": "[encoded data removed]",
            "text/plain": [
              "<Figure size 432x288 with 1 Axes>"
            ]
          },
          "metadata": {
            "needs_background": "light"
          }
        }
      ]
    },
    {
      "cell_type": "code",
      "source": [
        "lstm = LSTM(n_letters,n_letters,128,2,0.5) # hidde nnodes are 128\n",
        "\n",
        "n_iters = 100000\n",
        "print_every = 5000\n",
        "plot_every = 500\n",
        "all_losses = []\n",
        "total_loss = 0 # Reset every plot_every iters\n",
        "\n",
        "start = time.time()\n",
        "\n",
        "for iter in range(1, n_iters + 1):\n",
        "    output, loss = train(*randomTrainingExample())\n",
        "    total_loss += loss\n",
        "\n",
        "    if iter % print_every == 0:\n",
        "        print('%s (%d %d%%) %.4f' % (timeSince(start), iter, iter / n_iters * 100, loss))\n",
        "\n",
        "    if iter % plot_every == 0:\n",
        "        all_losses.append(total_loss / plot_every)\n",
        "        total_loss = 0"
      ],
      "metadata": {
        "colab": {
          "base_uri": "https://localhost:8080/"
        },
        "id": "tBJsAXF6u44_",
        "outputId": "7ca45c3c-4c40-4af4-9001-179fc3216ef2"
      },
      "execution_count": null,
      "outputs": [
        {
          "output_type": "stream",
          "name": "stdout",
          "text": [
            "0m 12s (5000 5%) 2.1189\n",
            "0m 24s (10000 10%) 2.7177\n",
            "0m 36s (15000 15%) 1.5591\n",
            "0m 48s (20000 20%) 1.3971\n",
            "1m 0s (25000 25%) 2.1455\n",
            "1m 12s (30000 30%) 2.7191\n",
            "1m 25s (35000 35%) 2.1228\n",
            "1m 37s (40000 40%) 2.3320\n",
            "1m 49s (45000 45%) 1.8218\n",
            "2m 2s (50000 50%) 2.3762\n",
            "2m 14s (55000 55%) 1.8309\n",
            "2m 26s (60000 60%) 1.7290\n",
            "2m 38s (65000 65%) 2.1160\n",
            "2m 50s (70000 70%) 2.2297\n",
            "3m 2s (75000 75%) 1.7931\n",
            "3m 14s (80000 80%) 2.8070\n",
            "3m 26s (85000 85%) 0.8474\n",
            "3m 39s (90000 90%) 2.5864\n",
            "3m 51s (95000 95%) 1.6435\n",
            "4m 3s (100000 100%) 1.9644\n"
          ]
        }
      ]
    },
    {
      "cell_type": "code",
      "source": [
        "plt.figure()\n",
        "plt.plot(all_losses)"
      ],
      "metadata": {
        "colab": {
          "base_uri": "https://localhost:8080/",
          "height": 283
        },
        "id": "cnbiIDqswApW",
        "outputId": "7d2d930d-4d22-4965-f7c7-15189a80d755"
      },
      "execution_count": null,
      "outputs": [
        {
          "output_type": "execute_result",
          "data": {
            "text/plain": [
              "[<matplotlib.lines.Line2D at 0x7f5fd91e5610>]"
            ]
          },
          "metadata": {},
          "execution_count": 40
        },
        {
          "output_type": "display_data",
          "data": {
            "image/png": "[encoded data removed]",
            "text/plain": [
              "<Figure size 432x288 with 1 Axes>"
            ]
          },
          "metadata": {
            "needs_background": "light"
          }
        }
      ]
    },
    {
      "cell_type": "code",
      "source": [
        "max_length = 20\n",
        "\n",
        "# Sample from a category and starting letter\n",
        "def sample(category, start_letter='A'):\n",
        "    with torch.no_grad():  # no need to track history in sampling\n",
        "        category_tensor = categoryTensor(category)\n",
        "        input = inputTensor(start_letter)\n",
        "        hidden = rnn.initHidden()\n",
        "\n",
        "        output_name = start_letter\n",
        "\n",
        "        for i in range(max_length):\n",
        "            output, hidden = rnn(category_tensor, input[0], hidden)\n",
        "            topv, topi = output.topk(1)\n",
        "            topi = topi[0][0]\n",
        "            if topi == n_letters - 1:\n",
        "                break\n",
        "            else:\n",
        "                letter = all_letters[topi]\n",
        "                output_name += letter\n",
        "            input = inputTensor(letter)\n",
        "\n",
        "        return output_name\n",
        "\n",
        "# Get multiple samples from one category and multiple starting letters\n",
        "def samples(category, start_letters='ABC'):\n",
        "    for start_letter in start_letters:\n",
        "        print(sample(category, start_letter))\n",
        "\n",
        "print(\"Italian:-\")\n",
        "samples('Italian', 'BPRT')\n",
        "print(\"\\nKorean:-\")\n",
        "samples('Korean', 'CMRS')\n",
        "print(\"\\nRussian:-\")\n",
        "samples('Russian', 'AJLN')\n",
        "print(\"\\nVietnamese:-\")\n",
        "samples('Vietnamese', 'LMT')"
      ],
      "metadata": {
        "colab": {
          "base_uri": "https://localhost:8080/"
        },
        "id": "sMCIgUGUwPJV",
        "outputId": "abcd3435-6b86-4165-f914-ad44ee5653c3"
      },
      "execution_count": null,
      "outputs": [
        {
          "output_type": "stream",
          "name": "stdout",
          "text": [
            "Italian:-\n",
            "Bartoni\n",
            "Pangalia\n",
            "Romal\n",
            "Tangali\n",
            "\n",
            "Korean:-\n",
            "Chon\n",
            "Mon\n",
            "Ro\n",
            "Sho\n",
            "\n",
            "Russian:-\n",
            "Alamanov\n",
            "Jandon\n",
            "Limanov\n",
            "Nakin\n",
            "\n",
            "Vietnamese:-\n",
            "La\n",
            "Ma\n",
            "Thang\n"
          ]
        }
      ]
    }
  ]
}